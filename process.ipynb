{
 "cells": [
  {
   "cell_type": "code",
   "execution_count": 1,
   "id": "6fdbcaab",
   "metadata": {},
   "outputs": [],
   "source": [
    "import pandas as pd"
   ]
  },
  {
   "cell_type": "code",
   "execution_count": 3,
   "id": "6cb52012",
   "metadata": {},
   "outputs": [
    {
     "name": "stdout",
     "output_type": "stream",
     "text": [
      "   volume_id  book_id  chapter_id  verse_id   volume_title book_title  \\\n",
      "0          1        1           1         1  Old Testament    Genesis   \n",
      "1          1        1           1         2  Old Testament    Genesis   \n",
      "2          1        1           1         3  Old Testament    Genesis   \n",
      "3          1        1           1         4  Old Testament    Genesis   \n",
      "4          1        1           1         5  Old Testament    Genesis   \n",
      "\n",
      "   volume_long_title                         book_long_title volume_subtitle  \\\n",
      "0  The Old Testament  The First Book of Moses called Genesis             NaN   \n",
      "1  The Old Testament  The First Book of Moses called Genesis             NaN   \n",
      "2  The Old Testament  The First Book of Moses called Genesis             NaN   \n",
      "3  The Old Testament  The First Book of Moses called Genesis             NaN   \n",
      "4  The Old Testament  The First Book of Moses called Genesis             NaN   \n",
      "\n",
      "  book_subtitle volume_short_title book_short_title volume_lds_url  \\\n",
      "0           NaN                 OT             Gen.             ot   \n",
      "1           NaN                 OT             Gen.             ot   \n",
      "2           NaN                 OT             Gen.             ot   \n",
      "3           NaN                 OT             Gen.             ot   \n",
      "4           NaN                 OT             Gen.             ot   \n",
      "\n",
      "  book_lds_url  chapter_number  verse_number  \\\n",
      "0          gen               1             1   \n",
      "1          gen               1             2   \n",
      "2          gen               1             3   \n",
      "3          gen               1             4   \n",
      "4          gen               1             5   \n",
      "\n",
      "                                                text  verse_title  \\\n",
      "0  IN the beginning God created the heaven and th...  Genesis 1:1   \n",
      "1  And the earth was without form, and void; and ...  Genesis 1:2   \n",
      "2  And God said, Let there be light: and there wa...  Genesis 1:3   \n",
      "3  And God saw the light, that it was good: and G...  Genesis 1:4   \n",
      "4  And God called the light Day, and the darkness...  Genesis 1:5   \n",
      "\n",
      "  verse_short_title  \n",
      "0          Gen. 1:1  \n",
      "1          Gen. 1:2  \n",
      "2          Gen. 1:3  \n",
      "3          Gen. 1:4  \n",
      "4          Gen. 1:5  \n"
     ]
    }
   ],
   "source": [
    "df = pd.read_csv('data.csv')\n",
    "print(df.head())"
   ]
  },
  {
   "cell_type": "code",
   "execution_count": 4,
   "id": "72ef4761",
   "metadata": {},
   "outputs": [
    {
     "name": "stdout",
     "output_type": "stream",
     "text": [
      "    volume_title book_title  chapter_number  verse_number\n",
      "0  Old Testament    Genesis               1             1\n",
      "1  Old Testament    Genesis               1             2\n",
      "2  Old Testament    Genesis               1             3\n",
      "3  Old Testament    Genesis               1             4\n",
      "4  Old Testament    Genesis               1             5\n"
     ]
    }
   ],
   "source": [
    "df_simple = df[['volume_title', 'book_title', 'chapter_number', 'verse_number']]\n",
    "print(df_simple.head())"
   ]
  }
 ],
 "metadata": {
  "kernelspec": {
   "display_name": "my_env",
   "language": "python",
   "name": "python3"
  },
  "language_info": {
   "codemirror_mode": {
    "name": "ipython",
    "version": 3
   },
   "file_extension": ".py",
   "mimetype": "text/x-python",
   "name": "python",
   "nbconvert_exporter": "python",
   "pygments_lexer": "ipython3",
   "version": "3.12.8"
  }
 },
 "nbformat": 4,
 "nbformat_minor": 5
}
